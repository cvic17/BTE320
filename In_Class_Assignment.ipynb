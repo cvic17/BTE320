{
  "nbformat": 4,
  "nbformat_minor": 0,
  "metadata": {
    "colab": {
      "provenance": [],
      "authorship_tag": "ABX9TyOZp/THkbn4rvg5rsEV9u0q",
      "include_colab_link": true
    },
    "kernelspec": {
      "name": "python3",
      "display_name": "Python 3"
    },
    "language_info": {
      "name": "python"
    }
  },
  "cells": [
    {
      "cell_type": "markdown",
      "metadata": {
        "id": "view-in-github",
        "colab_type": "text"
      },
      "source": [
        "<a href=\"https://colab.research.google.com/github/cvic17/BTE320/blob/main/In_Class_Assignment.ipynb\" target=\"_parent\"><img src=\"https://colab.research.google.com/assets/colab-badge.svg\" alt=\"Open In Colab\"/></a>"
      ]
    },
    {
      "cell_type": "markdown",
      "source": [
        "**Shape Area Calculator**"
      ],
      "metadata": {
        "id": "8hwDGiW1VFF9"
      }
    },
    {
      "cell_type": "code",
      "source": [
        "pi=3.14\n",
        "h=10\n",
        "r=3\n",
        "\n",
        "Area=2*pi*r*h+2*pi*r**2\n",
        "print(Area)"
      ],
      "metadata": {
        "colab": {
          "base_uri": "https://localhost:8080/"
        },
        "id": "b54_ASBrkO8m",
        "outputId": "cf7f8c3d-c1df-40fe-d7b3-1a367f8ad807"
      },
      "execution_count": null,
      "outputs": [
        {
          "output_type": "stream",
          "name": "stdout",
          "text": [
            "244.92000000000002\n"
          ]
        }
      ]
    },
    {
      "cell_type": "markdown",
      "source": [
        "**Rock, Paper,Scissor Game(While Loop)**"
      ],
      "metadata": {
        "id": "elGzCZkOTvvU"
      }
    },
    {
      "cell_type": "code",
      "source": [
        "i = input('Would you like to play(yes or no)?')\n",
        "while i == 'yes':\n",
        "  p1= input('Player 1 enter your move(rock, paper, or scissors)')\n",
        "  p2= input('Player 2 enter your move(rock, paper, or scissors)')\n",
        "  if p1==p2:\n",
        "    print('Draw')\n",
        "  elif p1 == 'rock' and p2 == 'scissors':\n",
        "    print('Player 1 Wins!')\n",
        "  elif p1 == 'rock' and p2 == 'paper':\n",
        "    print('Player 2 Wins!')\n",
        "  elif p1 == 'scissors' and p2 == 'rock':\n",
        "    print('Player 2 Wins!')\n",
        "  elif p1 == 'scissors' and p2 == 'paper':\n",
        "    print('Player 1 Wins!')\n",
        "  elif p1 == 'paper' and p2 == 'scissors':\n",
        "    print('Player 2 Wins!')\n",
        "  elif p1 == 'paper' and p2 == 'rock':\n",
        "    print('Player 1 Wins!')\n",
        "\n",
        "  i = input('Would you like to play(yes or no)?')\n",
        "\n",
        "\n"
      ],
      "metadata": {
        "id": "ILkxu07OsmEM",
        "colab": {
          "base_uri": "https://localhost:8080/"
        },
        "outputId": "b6728b9b-0d07-47c2-c5c5-fa6ca0b252c9"
      },
      "execution_count": 1,
      "outputs": [
        {
          "name": "stdout",
          "output_type": "stream",
          "text": [
            "Would you like to play(yes or no)?yes\n",
            "Player 1 enter your move(rock, paper, or scissors)rock\n",
            "Player 2 enter your move(rock, paper, or scissors)paper\n",
            "Player 2 Wins!\n",
            "Would you like to play(yes or no)?\n"
          ]
        }
      ]
    },
    {
      "cell_type": "markdown",
      "source": [
        "**Numerical Calculator**"
      ],
      "metadata": {
        "id": "pjzZ_VViUbtu"
      }
    },
    {
      "cell_type": "code",
      "source": [
        "n1=float(input('Enter your first number:'))\n",
        "n2=float(input('Enter your second number:'))\n",
        "x3=input('Would you like to +,-,*,/, or **:')\n",
        "\n",
        "if x3 == '+':\n",
        "  print(n1+n2)\n",
        "elif x3 == '-':\n",
        "  print(n1-n2)\n",
        "elif x3 == '*':\n",
        "  print(n1*n2)\n",
        "elif x3 == '/':\n",
        "  print(n1/n2)\n",
        "elif x3 == '**':\n",
        "  print(n1**n2)\n"
      ],
      "metadata": {
        "colab": {
          "base_uri": "https://localhost:8080/"
        },
        "id": "zUR5uTSp5Hjr",
        "outputId": "c105e66e-dc3e-4fc1-e14d-3c0a13473ebe"
      },
      "execution_count": null,
      "outputs": [
        {
          "output_type": "stream",
          "name": "stdout",
          "text": [
            "Enter your first number:2\n",
            "Enter your second number:3\n",
            "Would you like to +,-,*,/, or **:**\n",
            "8.0\n"
          ]
        }
      ]
    },
    {
      "cell_type": "markdown",
      "source": [
        "**Parking Garage**"
      ],
      "metadata": {
        "id": "2zAbhvXoVQZq"
      }
    },
    {
      "cell_type": "code",
      "source": [
        "f= 5\n",
        "i=2.5\n",
        "\n",
        "for h in range(1,9):\n",
        "  t= f+i*h\n",
        "  if t < 10:\n",
        "    t=10\n",
        "  elif t > 20:\n",
        "    t=20\n",
        "  print(h,t)"
      ],
      "metadata": {
        "id": "i9wMbMCT8DHW",
        "colab": {
          "base_uri": "https://localhost:8080/"
        },
        "outputId": "ca667603-5609-4ff3-c960-bae34c0aa3f6"
      },
      "execution_count": 2,
      "outputs": [
        {
          "output_type": "stream",
          "name": "stdout",
          "text": [
            "1 10\n",
            "2 10.0\n",
            "3 12.5\n",
            "4 15.0\n",
            "5 17.5\n",
            "6 20.0\n",
            "7 20\n",
            "8 20\n"
          ]
        }
      ]
    },
    {
      "cell_type": "markdown",
      "source": [
        "**Movie Theater**"
      ],
      "metadata": {
        "id": "Us22aF4xVWwE"
      }
    },
    {
      "cell_type": "code",
      "source": [
        "ticket=10\n",
        "forecast=20\n",
        "fc=200\n",
        "\n",
        "for a in range(0,225,25):\n",
        "  addit=2*(a**.5)\n",
        "  Profit= round(forecast+addit)*10-fc-a\n",
        "  print(a,Profit)"
      ],
      "metadata": {
        "id": "67gu7B968DZl",
        "colab": {
          "base_uri": "https://localhost:8080/"
        },
        "outputId": "6835425e-abcb-459d-e815-20549b6ca3e9"
      },
      "execution_count": 3,
      "outputs": [
        {
          "output_type": "stream",
          "name": "stdout",
          "text": [
            "0 0\n",
            "25 75\n",
            "50 90\n",
            "75 95\n",
            "100 100\n",
            "125 95\n",
            "150 90\n",
            "175 85\n",
            "200 80\n"
          ]
        }
      ]
    },
    {
      "cell_type": "markdown",
      "source": [
        "**Range**"
      ],
      "metadata": {
        "id": "sccaQdxvWc31"
      }
    },
    {
      "cell_type": "code",
      "source": [
        "for i in range(1,10000000):\n",
        "    if i ==10:\n",
        "      break\n",
        "    print(i, end=' ')\n",
        "print('Done.')"
      ],
      "metadata": {
        "colab": {
          "base_uri": "https://localhost:8080/"
        },
        "id": "ptZSkT6FMWfp",
        "outputId": "f1935fe2-8415-4438-e528-80278865fc8b"
      },
      "execution_count": null,
      "outputs": [
        {
          "output_type": "stream",
          "name": "stdout",
          "text": [
            "1 2 3 4 5 6 7 8 9 Done.\n"
          ]
        }
      ]
    },
    {
      "cell_type": "markdown",
      "source": [
        "**Appending List**"
      ],
      "metadata": {
        "id": "SQ6cNfbaWl5h"
      }
    },
    {
      "cell_type": "code",
      "source": [
        "l = []\n",
        "item= int(input('Provide a value: '))\n",
        "while item !=0:\n",
        "  l.append(item)\n",
        "  item= int(input('Provide a value: '))\n",
        "print(l)"
      ],
      "metadata": {
        "colab": {
          "base_uri": "https://localhost:8080/"
        },
        "id": "XIpInchALIIN",
        "outputId": "b7526cf9-d9c7-4206-a1a3-7bdff3b66f60"
      },
      "execution_count": null,
      "outputs": [
        {
          "output_type": "stream",
          "name": "stdout",
          "text": [
            "Provide a value: 1\n",
            "Provide a value: 2\n",
            "Provide a value: 3\n",
            "Provide a value: 4\n",
            "Provide a value: 0\n",
            "[1, 2, 3, 4]\n"
          ]
        }
      ]
    },
    {
      "cell_type": "markdown",
      "source": [
        "**Months to Numbers**"
      ],
      "metadata": {
        "id": "6PxpCUk7VkE3"
      }
    },
    {
      "cell_type": "code",
      "source": [
        "months = {}\n",
        "\n",
        "names =[\"Jan\",\"Feb\",\"Mar\",\"Apr\",\"May\",\"Jun\",\"Jul\",\"Aug\",\"Sep\",\"Oct\",\"Nov\",\"Dec\"]\n",
        "numbers = [1,2,3,4,5,6,7,8,9,10,11,12]\n",
        "for idx in numbers:\n",
        "  months[idx] = names[idx-1]\n",
        "months"
      ],
      "metadata": {
        "colab": {
          "base_uri": "https://localhost:8080/"
        },
        "id": "vfVfBTff43eh",
        "outputId": "bd9a340c-109c-4eaa-c725-0b857bde5742"
      },
      "execution_count": 4,
      "outputs": [
        {
          "output_type": "execute_result",
          "data": {
            "text/plain": [
              "{1: 'Jan',\n",
              " 2: 'Feb',\n",
              " 3: 'Mar',\n",
              " 4: 'Apr',\n",
              " 5: 'May',\n",
              " 6: 'Jun',\n",
              " 7: 'Jul',\n",
              " 8: 'Aug',\n",
              " 9: 'Sep',\n",
              " 10: 'Oct',\n",
              " 11: 'Nov',\n",
              " 12: 'Dec'}"
            ]
          },
          "metadata": {},
          "execution_count": 4
        }
      ]
    },
    {
      "cell_type": "code",
      "source": [
        "for key in months:\n",
        "  print(key)"
      ],
      "metadata": {
        "colab": {
          "base_uri": "https://localhost:8080/"
        },
        "id": "HDYqWsHID4kH",
        "outputId": "a546e8a3-e8e5-4c50-c3b0-93de0f645fb1"
      },
      "execution_count": null,
      "outputs": [
        {
          "output_type": "stream",
          "name": "stdout",
          "text": [
            "1\n",
            "2\n",
            "3\n",
            "4\n",
            "5\n",
            "6\n",
            "7\n",
            "8\n",
            "9\n",
            "10\n",
            "11\n",
            "12\n"
          ]
        }
      ]
    },
    {
      "cell_type": "code",
      "source": [
        "for key, value in months.items():\n",
        "  print(key, value)"
      ],
      "metadata": {
        "id": "MutV9_FzEZ9u",
        "outputId": "f544732f-bd8c-4e59-fa1d-c6a44bcb2fda",
        "colab": {
          "base_uri": "https://localhost:8080/"
        }
      },
      "execution_count": null,
      "outputs": [
        {
          "output_type": "stream",
          "name": "stdout",
          "text": [
            "1 Jan\n",
            "2 Feb\n",
            "3 Mar\n",
            "4 Apr\n",
            "5 May\n",
            "6 Jun\n",
            "7 Jul\n",
            "8 Aug\n",
            "9 Sep\n",
            "10 Oct\n",
            "11 Nov\n",
            "12 Dec\n"
          ]
        }
      ]
    },
    {
      "cell_type": "markdown",
      "source": [
        "**Fee Calculation and Display Functions**"
      ],
      "metadata": {
        "id": "nTIc9W2EVnTI"
      }
    },
    {
      "cell_type": "code",
      "source": [
        "def Calcfee(hours,decimals=2):\n",
        "  fee=5+hours*2.5\n",
        "  fee=round(fee,decimals)\n",
        "  return fee\n",
        "\n",
        "def displayFee(fee):\n",
        "  print(fee)\n",
        "\n",
        "h= int(input(\"Enter number of hours: \"))\n",
        "fee= Calcfee(h,decimals=0)\n",
        "displayFee(fee)"
      ],
      "metadata": {
        "colab": {
          "base_uri": "https://localhost:8080/"
        },
        "id": "f0wiiaGZ_YTs",
        "outputId": "f1e0dfd1-7a0d-49a4-ce2b-c4faed6a1e52"
      },
      "execution_count": 5,
      "outputs": [
        {
          "output_type": "stream",
          "name": "stdout",
          "text": [
            "Enter number of hours: 5\n",
            "18.0\n"
          ]
        }
      ]
    },
    {
      "cell_type": "markdown",
      "source": [
        "**Reverse Function Recursion**"
      ],
      "metadata": {
        "id": "NPQFekWnVu3N"
      }
    },
    {
      "cell_type": "code",
      "source": [
        "def mirror(s):\n",
        "  if len(s)==1:\n",
        "    return s\n",
        "  else:\n",
        "    return s[-1]+mirror(s[:-1])\n",
        "\n",
        "\n",
        "mirror('hello')\n"
      ],
      "metadata": {
        "colab": {
          "base_uri": "https://localhost:8080/",
          "height": 35
        },
        "id": "KkwcNMWgHZm8",
        "outputId": "db60699e-f06d-402a-8a86-27fb3d003b64"
      },
      "execution_count": 6,
      "outputs": [
        {
          "output_type": "execute_result",
          "data": {
            "text/plain": [
              "'olleh'"
            ],
            "application/vnd.google.colaboratory.intrinsic+json": {
              "type": "string"
            }
          },
          "metadata": {},
          "execution_count": 6
        }
      ]
    },
    {
      "cell_type": "markdown",
      "source": [
        "**Weighted Average**"
      ],
      "metadata": {
        "id": "3tCRj1MNVt-g"
      }
    },
    {
      "cell_type": "code",
      "source": [
        "def wAvg(L,w):\n",
        "  try:\n",
        "    res=[]\n",
        "    for i in range(len(L)):\n",
        "      res.append(L[i]*w[i])\n",
        "    return sum(res)/sum(w)\n",
        "  except ZeroDivisionError:\n",
        "    print('Divided by zero')\n",
        "    return []\n",
        "  except TypeError:\n",
        "    print('Non-numerical object found')\n",
        "    return []\n",
        "  except Exception as e:\n",
        "    print(\"Unknown error\")\n",
        "    return float(\"nan\")\n",
        "wAvg([1,2,3],[.1,.3,.4])\n",
        "\n",
        "\n",
        "\n",
        "\n",
        "\n"
      ],
      "metadata": {
        "colab": {
          "base_uri": "https://localhost:8080/"
        },
        "id": "Thgghlc9f9Y-",
        "outputId": "f031c0a1-b124-48aa-d3ca-d4a2ed444f61"
      },
      "execution_count": null,
      "outputs": [
        {
          "output_type": "execute_result",
          "data": {
            "text/plain": [
              "2.375"
            ]
          },
          "metadata": {},
          "execution_count": 14
        }
      ]
    },
    {
      "cell_type": "markdown",
      "source": [
        "**Car Class**"
      ],
      "metadata": {
        "id": "7qUE6SkCVyFs"
      }
    },
    {
      "cell_type": "code",
      "source": [
        "class Car:\n",
        "  def __init__(self,n_doors, allwd, make, year,hp):\n",
        "    self.doors = n_doors\n",
        "    self.allowed = allwd\n",
        "    self.make = make\n",
        "    self.year = year\n",
        "    self.n_wheels=4\n",
        "    self.engine_running=False\n",
        "    self.current_speed=self.hp=hp\n",
        "\n",
        "  def start_engine(self):\n",
        "    self.engine_running=True\n",
        "\n",
        "  def stop_engine(self):\n",
        "    self.engine_running=False\n",
        "\n",
        "  def accelerate(self,new_speed):\n",
        "    if self.engine_running == True:\n",
        "      self.current_speed=new_speed + new_speed\n",
        "      print(f'New speed is {self.current_speed}')\n",
        "    else:\n",
        "      print('Start engine first')\n",
        "\n",
        "  def brake(self,speed_decrease):\n",
        "    self.current_speed=max(0,slef.current_speed-speed_decrease)\n",
        "\n",
        "  def describe(self):\n",
        "    print(f'Make: {self.make}')\n",
        "    print(f'Year: {self.year}')\n",
        "\n",
        "  def __str__(self):\n",
        "    return f'Make: {self.make}, Year: {self.year}'\n",
        "\n",
        "  def __lt__(self,other):\n",
        "    return self.hp < other.hp\n",
        "\n",
        "  def __add__(self,other):\n",
        "    return self.hp + other.hp\n",
        "\n",
        "\n",
        "c= Car(4,False,'Ferrari',2023,300)\n",
        "d=Car(4,True,\"Dodge\",2022,150)"
      ],
      "metadata": {
        "id": "cfgbR8hItdOF"
      },
      "execution_count": 7,
      "outputs": []
    },
    {
      "cell_type": "code",
      "source": [
        "c < d"
      ],
      "metadata": {
        "colab": {
          "base_uri": "https://localhost:8080/"
        },
        "id": "gcX3_5odlugP",
        "outputId": "7402f7de-0b7a-4107-8462-bd4c06ed8bcc"
      },
      "execution_count": 8,
      "outputs": [
        {
          "output_type": "execute_result",
          "data": {
            "text/plain": [
              "False"
            ]
          },
          "metadata": {},
          "execution_count": 8
        }
      ]
    },
    {
      "cell_type": "code",
      "source": [
        "c+d"
      ],
      "metadata": {
        "colab": {
          "base_uri": "https://localhost:8080/"
        },
        "id": "OXynivj2n4G8",
        "outputId": "f3aa6931-93e2-42be-a76d-2b9cd173febf"
      },
      "execution_count": 9,
      "outputs": [
        {
          "output_type": "execute_result",
          "data": {
            "text/plain": [
              "450"
            ]
          },
          "metadata": {},
          "execution_count": 9
        }
      ]
    },
    {
      "cell_type": "code",
      "source": [
        "c.start_engine()"
      ],
      "metadata": {
        "id": "0xoWaajCX40D"
      },
      "execution_count": 10,
      "outputs": []
    },
    {
      "cell_type": "code",
      "source": [
        "c.accelerate(50)"
      ],
      "metadata": {
        "colab": {
          "base_uri": "https://localhost:8080/"
        },
        "id": "cP8dwKtRWeHT",
        "outputId": "b1237527-652d-431e-940c-65aae919e8d2"
      },
      "execution_count": 11,
      "outputs": [
        {
          "output_type": "stream",
          "name": "stdout",
          "text": [
            "New speed is 100\n"
          ]
        }
      ]
    },
    {
      "cell_type": "code",
      "source": [
        "print(c)"
      ],
      "metadata": {
        "colab": {
          "base_uri": "https://localhost:8080/"
        },
        "id": "1pvmJR56bLwf",
        "outputId": "489e8c43-7587-419f-ecbb-4ed5639ea9d9"
      },
      "execution_count": 12,
      "outputs": [
        {
          "output_type": "stream",
          "name": "stdout",
          "text": [
            "Make: Ferrari, Year: 2023\n"
          ]
        }
      ]
    },
    {
      "cell_type": "markdown",
      "source": [
        "**Student Class**"
      ],
      "metadata": {
        "id": "6ElO5TBqWDkv"
      }
    },
    {
      "cell_type": "code",
      "source": [
        "class Student:\n",
        "  def __init__(self,name,number, courses):\n",
        "    self.name=name\n",
        "    self.number=number\n",
        "    self.courses=[]\n",
        "\n",
        "  def set_name(self,newName):\n",
        "    self.name=newName\n",
        "\n",
        "  def get_name(self):\n",
        "    return self.name\n",
        "\n",
        "  def enroll(self, Newcourse):\n",
        "    if Newcourse not in self.courses:\n",
        "     self.courses.append(Newcourse)\n",
        "    else:\n",
        "      print('Already enrolled')\n",
        "\n",
        "  def get_courses(self):\n",
        "    return self.courses\n",
        "\n",
        "  def __repr__(self):\n",
        "    return f'Name: {self.name}'\n",
        "class GradStudent(Student):\n",
        "  def __init__(self,name,number,courses,stipend):\n",
        "    super().__init__(name,number)\n",
        "    self.stipend=stipend\n",
        "\n",
        "  def set_stipend(self,Newstipend):\n",
        "    self.stipend=Newstipend\n",
        "\n",
        "  def get_stipend(self):\n",
        "    return self.stipend\n"
      ],
      "metadata": {
        "id": "ZrnSj4WlY0Dp"
      },
      "execution_count": 13,
      "outputs": []
    },
    {
      "cell_type": "code",
      "source": [
        "s1=Student(\"James Bond\",'007',[])\n",
        "s2=Student(\"Clark Kent\",'333',[])\n",
        "\n",
        "s2.get_name()"
      ],
      "metadata": {
        "colab": {
          "base_uri": "https://localhost:8080/",
          "height": 35
        },
        "id": "z5Qt0_CratkN",
        "outputId": "d187e3e4-3663-4dd0-97dc-f4bb32e1113b"
      },
      "execution_count": 15,
      "outputs": [
        {
          "output_type": "execute_result",
          "data": {
            "text/plain": [
              "'Clark Kent'"
            ],
            "application/vnd.google.colaboratory.intrinsic+json": {
              "type": "string"
            }
          },
          "metadata": {},
          "execution_count": 15
        }
      ]
    },
    {
      "cell_type": "code",
      "source": [
        "s1.enroll('BTE320')\n",
        "s1.get_courses()\n"
      ],
      "metadata": {
        "colab": {
          "base_uri": "https://localhost:8080/"
        },
        "id": "eee96Il2hM63",
        "outputId": "c4033a40-604f-4008-9523-c043bfec16b9"
      },
      "execution_count": 17,
      "outputs": [
        {
          "output_type": "execute_result",
          "data": {
            "text/plain": [
              "['BTE320']"
            ]
          },
          "metadata": {},
          "execution_count": 17
        }
      ]
    },
    {
      "cell_type": "code",
      "source": [
        "s2.set_name('Superman')\n",
        "s2.get_name()"
      ],
      "metadata": {
        "colab": {
          "base_uri": "https://localhost:8080/",
          "height": 35
        },
        "id": "UQvcYR__rIS3",
        "outputId": "a023ae7c-68c7-4923-8905-74899640d677"
      },
      "execution_count": 19,
      "outputs": [
        {
          "output_type": "execute_result",
          "data": {
            "text/plain": [
              "'Superman'"
            ],
            "application/vnd.google.colaboratory.intrinsic+json": {
              "type": "string"
            }
          },
          "metadata": {},
          "execution_count": 19
        }
      ]
    },
    {
      "cell_type": "code",
      "source": [
        "s2.enroll('BTE320')\n",
        "s2.get_courses()\n"
      ],
      "metadata": {
        "id": "qenTpQ81r2bR",
        "outputId": "8b13f0a0-1845-4e7a-8c9d-909237a86322",
        "colab": {
          "base_uri": "https://localhost:8080/"
        }
      },
      "execution_count": 20,
      "outputs": [
        {
          "output_type": "execute_result",
          "data": {
            "text/plain": [
              "['BTE320']"
            ]
          },
          "metadata": {},
          "execution_count": 20
        }
      ]
    },
    {
      "cell_type": "code",
      "source": [
        "s2.enroll('BTE401')\n",
        "s2.get_courses()"
      ],
      "metadata": {
        "colab": {
          "base_uri": "https://localhost:8080/"
        },
        "id": "5NapvM9Rvw4f",
        "outputId": "8658eefa-8617-4e48-ddcd-497e8c20458c"
      },
      "execution_count": 21,
      "outputs": [
        {
          "output_type": "execute_result",
          "data": {
            "text/plain": [
              "['BTE320', 'BTE401']"
            ]
          },
          "metadata": {},
          "execution_count": 21
        }
      ]
    }
  ]
}